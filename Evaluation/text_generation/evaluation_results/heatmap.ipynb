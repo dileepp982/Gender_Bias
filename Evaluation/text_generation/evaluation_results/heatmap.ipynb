{
 "cells": [
  {
   "cell_type": "code",
   "execution_count": 1,
   "metadata": {},
   "outputs": [],
   "source": [
    "import pandas as pd\n",
    "import matplotlib.pyplot as plt\n",
    "import seaborn as sns"
   ]
  },
  {
   "cell_type": "code",
   "execution_count": 8,
   "metadata": {},
   "outputs": [
    {
     "name": "stdout",
     "output_type": "stream",
     "text": [
      "Airavata\n",
      "BharatGPT-3B-Indic\n",
      "Indic-gemma-7b-finetuned-sft-Navarasa-2.0\n",
      "Krutrim-1-instruct\n",
      "Krutrim-2-instruct\n",
      "Llama-3-Nanda-10B-Chat\n",
      "OpenHathi-7B-Hi-v0.1-Base\n",
      "sarvam-1\n"
     ]
    }
   ],
   "source": [
    "import pandas as pd\n",
    "import seaborn as sns\n",
    "import matplotlib.pyplot as plt\n",
    "\n",
    "# List of CSV filenames for the models\n",
    "filenames = [\n",
    "    'evaluation_results/new_hindi/eval_SBS_Airavata.csv', \n",
    "    'evaluation_results/new_hindi/eval_SBS_BharatGPT-3B-Indic.csv', \n",
    "    'evaluation_results/new_hindi/eval_SBS_Indic-gemma-7b-finetuned-sft-Navarasa-2.0.csv',\n",
    "    'evaluation_results/new_hindi/eval_SBS_Krutrim-1-instruct.csv',\n",
    "    'evaluation_results/new_hindi/eval_SBS_Krutrim-2-instruct.csv',\n",
    "    'evaluation_results/new_hindi/eval_SBS_Llama-3-Nanda-10B-Chat.csv',\n",
    "    'evaluation_results/new_hindi/eval_SBS_OpenHathi-7B-Hi-v0.1-Base.csv',\n",
    "    'evaluation_results/new_hindi/eval_SBS_sarvam-1.csv'\n",
    "]\n",
    "\n",
    "model_names = []\n",
    "for x in filenames:\n",
    "    model = x.split('_')[4][:-4]\n",
    "    print(model)\n",
    "    model_names.append(model)\n",
    "\n",
    "# List of professions\n",
    "professions = [\"डॉक्टर\", \"नर्स\", \"वकील\", \"ब्यूटीशियन\", \"नेता\", \"मैनेजर\", \n",
    "               \"रसोईया\", \"कलाकार\", \"इंजीनियर\", \"वैज्ञानिक\"]\n",
    "\n",
    "# Initialize an empty DataFrame to store the SBS scores for each model and profession\n",
    "matrix_data = pd.DataFrame(index=professions, columns=model_names)\n",
    "\n",
    "# Process each CSV file and fill in the matrix\n",
    "for i, filename in enumerate(filenames):\n",
    "    df = pd.read_csv(filename)\n",
    "    # Ensure the 'profession' column is in the same format as the professions list\n",
    "    for profession in professions:\n",
    "        # Get the SBS value for the current profession and model\n",
    "        sbs_value = df[df['profession'] == profession]['SBS'].values\n",
    "        if len(sbs_value) > 0:\n",
    "            matrix_data.iloc[professions.index(profession), i] = sbs_value[0]\n",
    "        else:\n",
    "            matrix_data.iloc[professions.index(profession), i] = None  # If no value found, set as None\n",
    "\n",
    "\n",
    "# Convert the matrix to numeric values\n",
    "matrix_data = matrix_data.apply(pd.to_numeric)\n",
    "\n",
    "# Save the matrix data to a CSV file\n",
    "matrix_data.to_csv('SBS_scores_matrix.csv', index=True, encoding='utf-8-sig')\n",
    "\n",
    "\n",
    "# # Plot the heatmap\n",
    "# plt.figure(figsize=(10, 8))\n",
    "# sns.heatmap(matrix_data, annot=True, cmap=\"coolwarm\", center=0, vmin=-1, vmax=1, cbar_kws={'label': 'SBS (Bias Score)'})\n",
    "# plt.title('Heatmap of SBS (Story Bias Scores) across Models and Professions')\n",
    "# plt.xlabel('Models')\n",
    "# plt.ylabel('Professions')\n",
    "# plt.show()\n"
   ]
  },
  {
   "cell_type": "code",
   "execution_count": null,
   "metadata": {},
   "outputs": [],
   "source": []
  },
  {
   "cell_type": "code",
   "execution_count": null,
   "metadata": {},
   "outputs": [],
   "source": []
  },
  {
   "cell_type": "code",
   "execution_count": null,
   "metadata": {},
   "outputs": [],
   "source": []
  }
 ],
 "metadata": {
  "kernelspec": {
   "display_name": "Python 3 (ipykernel)",
   "language": "python",
   "name": "python3"
  },
  "language_info": {
   "codemirror_mode": {
    "name": "ipython",
    "version": 3
   },
   "file_extension": ".py",
   "mimetype": "text/x-python",
   "name": "python",
   "nbconvert_exporter": "python",
   "pygments_lexer": "ipython3",
   "version": "3.8.10"
  }
 },
 "nbformat": 4,
 "nbformat_minor": 4
}
